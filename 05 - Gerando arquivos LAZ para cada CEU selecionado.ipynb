{
 "cells": [
  {
   "cell_type": "markdown",
   "metadata": {},
   "source": [
    "# Gerando um arquivo LAZ para cada CEU selecionado\n",
    "\n",
    "Neste Notebook, vamos salvar a nuvem de pontos de cada CEU selecionado para um arquivo correspondente na pasta `LAS` \n",
    "\n",
    "## Abrindo a base de dados"
   ]
  },
  {
   "cell_type": "code",
   "execution_count": 1,
   "metadata": {},
   "outputs": [],
   "source": [
    "import geopandas as gpd"
   ]
  },
  {
   "cell_type": "code",
   "execution_count": 5,
   "metadata": {},
   "outputs": [],
   "source": [
    "gdf_ceus = gpd.read_file('resultados/ceus-escolhidos.geojson')"
   ]
  },
  {
   "cell_type": "markdown",
   "metadata": {},
   "source": [
    "## Obtendo e salvando cada nuvem de pontos"
   ]
  },
  {
   "cell_type": "code",
   "execution_count": 4,
   "metadata": {},
   "outputs": [],
   "source": [
    "import pdal, json"
   ]
  },
  {
   "cell_type": "code",
   "execution_count": 17,
   "metadata": {},
   "outputs": [
    {
     "name": "stdout",
     "output_type": "stream",
     "text": [
      "CEU CEI UIRAPURU\n",
      "Pipeline selected 297640 points\n",
      "CEU CEI CAMPO LIMPO\n",
      "Pipeline selected 516754 points\n",
      "CEU CEI GUARAPIRANGA\n",
      "Pipeline selected 1518322 points\n",
      "CEU CEI PERUS\n",
      "Pipeline selected 284643 points\n",
      "CEU CEI CIDADE DUTRA\n",
      "Pipeline selected 202386 points\n",
      "CEU CEI TRES LAGOS\n",
      "Pipeline selected 810658 points\n",
      "CEU CEI CAMINHO DO MAR\n",
      "Pipeline selected 696177 points\n",
      "CEU CEI MENINOS\n",
      "Pipeline selected 549756 points\n",
      "CEU CEI WALTER DE ANDRADE PROF\n",
      "Pipeline selected 497431 points\n",
      "CEU CEI QUINTA DO SOL\n",
      "Pipeline selected 163626 points\n",
      "CEU CEI SAO MATEUS\n",
      "Pipeline selected 196424 points\n",
      "CEU CEI SILVANA APARECIDA TOBIAS PROFA\n",
      "Pipeline selected 606664 points\n",
      "CEU CEI PARQUE VEREDAS\n",
      "Pipeline selected 183804 points\n",
      "CEU CEI TRES PONTES\n",
      "Pipeline selected 550807 points\n"
     ]
    }
   ],
   "source": [
    "# arr = []\n",
    "for i, r in gdf_ceus.iterrows():\n",
    "    print(r.nm_equipamento)\n",
    "\n",
    "    s = r.geometry\n",
    "    bounds = ([s.bounds[0], s.bounds[2]], [s.bounds[1], s.bounds[3]])\n",
    "\n",
    "    ept = [\n",
    "        {\n",
    "          \"type\": \"readers.ept\",\n",
    "          \"filename\": \"https://ept-m3dc-pmsp.s3-sa-east-1.amazonaws.com/ept.json\",\n",
    "          \"bounds\": str(bounds)\n",
    "        },\n",
    "        {\n",
    "            \"type\":\"filters.crop\",\n",
    "            \"polygon\":s.wkt\n",
    "        },\n",
    "        {\n",
    "            \"type\":\"writers.las\",\n",
    "            \"compression\":\"lazip\",\n",
    "            \"filename\": 'resultados/LAZ/'+r.nm_equipamento.lower().replace(' ', '-')+'.laz'\n",
    "        }\n",
    "    ]\n",
    "\n",
    "    pipeline = pdal.Pipeline(json.dumps(ept))\n",
    "    pipeline.validate()\n",
    "    n_points = pipeline.execute()\n",
    "    print(f'Pipeline selected {n_points} points')\n",
    "    \n",
    "#     arr.append(pipeline.arrays[0])"
   ]
  },
  {
   "cell_type": "code",
   "execution_count": null,
   "metadata": {},
   "outputs": [],
   "source": []
  }
 ],
 "metadata": {
  "kernelspec": {
   "display_name": "Python 3",
   "language": "python",
   "name": "python3"
  },
  "language_info": {
   "codemirror_mode": {
    "name": "ipython",
    "version": 3
   },
   "file_extension": ".py",
   "mimetype": "text/x-python",
   "name": "python",
   "nbconvert_exporter": "python",
   "pygments_lexer": "ipython3",
   "version": "3.7.6"
  }
 },
 "nbformat": 4,
 "nbformat_minor": 4
}
