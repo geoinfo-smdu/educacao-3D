{
 "cells": [
  {
   "cell_type": "markdown",
   "metadata": {},
   "source": [
    "# Gerando nuvem de pontos\n",
    "\n",
    "Para exemplificar o método optamos por escolher uma feição, o CEU Quinta do Sol (55098)\n",
    "\n",
    "## Desenhando o lote"
   ]
  },
  {
   "cell_type": "code",
   "execution_count": 12,
   "metadata": {},
   "outputs": [],
   "source": [
    "from shapely import geometry, wkt"
   ]
  },
  {
   "cell_type": "code",
   "execution_count": 13,
   "metadata": {},
   "outputs": [],
   "source": [
    "feicao = 'Polygon ((347223.68807362182997167 7400518.33423929195851088, 347235.32408486335771158 7400534.97726279124617577, 347240.78109006152953953 7400543.13627425953745842, 347242.90909200522582978 7400546.73727926332503557, 347248.61509763612411916 7400554.3182900520041585, 347252.09810099360765889 7400559.33429712988436222, 347252.96510183915961534 7400560.53829883504658937, 347253.2841021497733891 7400560.98329946398735046, 347253.71210260083898902 7400561.41130009666085243, 347254.34410333988489583 7400561.69830058980733156, 347254.63410368864424527 7400561.77830075193196535, 347255.63810496852966025 7400561.7083008699119091, 347256.22810577531345189 7400561.41130061447620392, 347256.92110681853955612 7400560.5882997140288353, 347260.71611285547260195 7400554.54429283551871777, 347268.16112490958767012 7400541.65127802733331919, 347273.94813418545527384 7400532.09526710584759712, 347281.46014627569820732 7400519.44125261530280113, 347283.39114938583225012 7400516.16524886153638363, 347283.66114986542379484 7400515.49624806828796864, 347283.8361503598280251 7400514.16924642212688923, 347283.64215035445522517 7400513.0162449199706316, 347283.12614999839570373 7400511.5832429975271225, 347281.41514855861896649 7400508.10023823007941246, 347279.89314725523581728 7400505.11323412880301476, 347276.93514469370711595 7400499.45222634170204401, 347274.46714255784172565 7400494.71221982501447201, 347272.74114130390807986 7400490.24521380662918091, 347270.99114014022052288 7400485.1932070404291153, 347269.50413921219296753 7400480.60220091417431831, 347268.65513874043244869 7400477.70319706480950117, 347267.8531384248053655 7400474.33119262382388115, 347267.10013811045791954 7400471.25218856707215309, 347266.24313772586174309 7400467.87918411381542683, 347265.79313773656031117 7400465.07918047159910202, 347265.41513782134279609 7400462.35417693946510553, 347265.10313810303341597 7400459.08417272940278053, 347264.94613866705913097 7400455.39816802553832531, 347264.78313899337081239 7400452.824164729565382, 347264.75913960475008935 7400449.72416079510003328, 347264.91314039612188935 7400446.82815715484321117, 347265.18314139766152948 7400443.62515315040946007, 347265.58414259471464902 7400440.27914899308234453, 347266.37014447501860559 7400435.97514369897544384, 347267.75414724787697196 7400431.00913768820464611, 347270.01215110719203949 7400426.0991319315508008, 347274.23315790470223874 7400418.97112376801669598, 347278.87916512921219692 7400412.36211634986102581, 347280.88716819952242076 7400409.76211346872150898, 347282.35017043369589373 7400407.87911138311028481, 347282.86417128948960453 7400406.87011021096259356, 347283.04917173029389232 7400405.87110898271203041, 347282.88617170311044902 7400405.01010785810649395, 347282.1991708962013945 7400404.72210735082626343, 347271.34915684070438147 7400406.51010737847536802, 347243.50112077331868932 7400411.06610740721225739, 347202.62806787085719407 7400417.58110722899436951, 347181.82604094117414206 7400420.92210717126727104, 347172.64202905923593789 7400422.36410710122436285, 347164.57401861913967878 7400423.6291070394217968, 347163.12801673437934369 7400423.92610711697489023, 347162.18901546945562586 7400424.32510742917656898, 347161.52201452781446278 7400424.80310789868235588, 347160.71801331674214453 7400425.75210893433541059, 347160.21901244996115565 7400426.90811029728502035, 347160.45401256054174155 7400427.8061114838346839, 347161.41001349000725895 7400429.14011337142437696, 347165.45701737230410799 7400435.06212171446532011, 347184.3060355675406754 7400462.0711598414927721, 347195.11004599847365171 7400477.54818169213831425, 347211.19806150172371417 7400500.74221441335976124, 347223.68807362182997167 7400518.33423929195851088))'"
   ]
  },
  {
   "cell_type": "code",
   "execution_count": 18,
   "metadata": {},
   "outputs": [],
   "source": [
    "s = wkt.loads(feicao)"
   ]
  },
  {
   "cell_type": "code",
   "execution_count": 19,
   "metadata": {},
   "outputs": [
    {
     "data": {
      "image/svg+xml": [
       "<svg xmlns=\"http://www.w3.org/2000/svg\" xmlns:xlink=\"http://www.w3.org/1999/xlink\" width=\"136.18163338198792\" height=\"169.62068887334317\" viewBox=\"347153.9367647139 7400398.439859615 136.18163338198792 169.62068887334317\" preserveAspectRatio=\"xMinYMin meet\"><g transform=\"matrix(1,0,0,-1,0,14800966.500408102)\"><path fill-rule=\"evenodd\" fill=\"#66cc99\" stroke=\"#555555\" stroke-width=\"2.0\" opacity=\"0.6\" d=\"M 347223.68807362183,7400518.334239292 L 347235.32408486336,7400534.977262791 L 347240.78109006153,7400543.13627426 L 347242.9090920052,7400546.737279263 L 347248.6150976361,7400554.318290052 L 347252.0981009936,7400559.33429713 L 347252.96510183916,7400560.538298835 L 347253.2841021498,7400560.983299464 L 347253.71210260084,7400561.411300097 L 347254.3441033399,7400561.69830059 L 347254.63410368864,7400561.778300752 L 347255.63810496853,7400561.70830087 L 347256.2281057753,7400561.4113006145 L 347256.92110681854,7400560.588299714 L 347260.7161128555,7400554.5442928355 L 347268.1611249096,7400541.651278027 L 347273.94813418546,7400532.095267106 L 347281.4601462757,7400519.441252615 L 347283.39114938583,7400516.165248862 L 347283.6611498654,7400515.496248068 L 347283.8361503598,7400514.169246422 L 347283.64215035446,7400513.01624492 L 347283.1261499984,7400511.5832429975 L 347281.4151485586,7400508.10023823 L 347279.89314725524,7400505.113234129 L 347276.9351446937,7400499.452226342 L 347274.46714255784,7400494.712219825 L 347272.7411413039,7400490.245213807 L 347270.9911401402,7400485.19320704 L 347269.5041392122,7400480.602200914 L 347268.65513874043,7400477.703197065 L 347267.8531384248,7400474.331192624 L 347267.10013811046,7400471.252188567 L 347266.24313772586,7400467.879184114 L 347265.79313773656,7400465.079180472 L 347265.41513782134,7400462.354176939 L 347265.10313810303,7400459.084172729 L 347264.94613866706,7400455.398168026 L 347264.78313899337,7400452.82416473 L 347264.75913960475,7400449.724160795 L 347264.9131403961,7400446.828157155 L 347265.18314139766,7400443.62515315 L 347265.5841425947,7400440.279148993 L 347266.370144475,7400435.975143699 L 347267.7541472479,7400431.009137688 L 347270.0121511072,7400426.099131932 L 347274.2331579047,7400418.971123768 L 347278.8791651292,7400412.36211635 L 347280.8871681995,7400409.762113469 L 347282.3501704337,7400407.879111383 L 347282.8641712895,7400406.870110211 L 347283.0491717303,7400405.871108983 L 347282.8861717031,7400405.010107858 L 347282.1991708962,7400404.722107351 L 347271.3491568407,7400406.5101073785 L 347243.5011207733,7400411.066107407 L 347202.62806787086,7400417.581107229 L 347181.8260409412,7400420.922107171 L 347172.64202905924,7400422.364107101 L 347164.57401861914,7400423.629107039 L 347163.1280167344,7400423.926107117 L 347162.18901546946,7400424.325107429 L 347161.5220145278,7400424.803107899 L 347160.71801331674,7400425.752108934 L 347160.21901244996,7400426.908110297 L 347160.45401256054,7400427.806111484 L 347161.41001349,7400429.140113371 L 347165.4570173723,7400435.062121714 L 347184.30603556754,7400462.0711598415 L 347195.1100459985,7400477.548181692 L 347211.1980615017,7400500.742214413 L 347223.68807362183,7400518.334239292 z\" /></g></svg>"
      ],
      "text/plain": [
       "<shapely.geometry.polygon.Polygon at 0x7fda94e35850>"
      ]
     },
     "execution_count": 19,
     "metadata": {},
     "output_type": "execute_result"
    }
   ],
   "source": [
    "s"
   ]
  },
  {
   "cell_type": "markdown",
   "metadata": {},
   "source": [
    "## Obtendo a nuvem de pontos"
   ]
  },
  {
   "cell_type": "code",
   "execution_count": 20,
   "metadata": {},
   "outputs": [],
   "source": [
    "import pdal, json"
   ]
  },
  {
   "cell_type": "code",
   "execution_count": 24,
   "metadata": {},
   "outputs": [],
   "source": [
    "bounds = ([s.bounds[0], s.bounds[2]], [s.bounds[1], s.bounds[3]])"
   ]
  },
  {
   "cell_type": "code",
   "execution_count": 25,
   "metadata": {},
   "outputs": [
    {
     "name": "stdout",
     "output_type": "stream",
     "text": [
      "CPU times: user 4.41 s, sys: 140 ms, total: 4.55 s\n",
      "Wall time: 4.94 s\n",
      "Pipeline selected 163626 points\n"
     ]
    }
   ],
   "source": [
    "ept = [\n",
    "    {\n",
    "      \"type\": \"readers.ept\",\n",
    "      \"filename\": \"https://ept-m3dc-pmsp.s3-sa-east-1.amazonaws.com/ept.json\",\n",
    "      \"bounds\": str(bounds)\n",
    "    },\n",
    "    {\n",
    "        \"type\":\"filters.crop\",\n",
    "        \"polygon\":s.wkt\n",
    "    },\n",
    "    {   \n",
    "        \"type\":\"filters.hag_delaunay\"\n",
    "    }\n",
    "]\n",
    "\n",
    "pipeline = pdal.Pipeline(json.dumps(ept))\n",
    "pipeline.validate()\n",
    "%time n_points = pipeline.execute()\n",
    "print(f'Pipeline selected {n_points} points')"
   ]
  },
  {
   "cell_type": "code",
   "execution_count": 26,
   "metadata": {},
   "outputs": [
    {
     "data": {
      "text/html": [
       "<div>\n",
       "<style scoped>\n",
       "    .dataframe tbody tr th:only-of-type {\n",
       "        vertical-align: middle;\n",
       "    }\n",
       "\n",
       "    .dataframe tbody tr th {\n",
       "        vertical-align: top;\n",
       "    }\n",
       "\n",
       "    .dataframe thead th {\n",
       "        text-align: right;\n",
       "    }\n",
       "</style>\n",
       "<table border=\"1\" class=\"dataframe\">\n",
       "  <thead>\n",
       "    <tr style=\"text-align: right;\">\n",
       "      <th></th>\n",
       "      <th>X</th>\n",
       "      <th>Y</th>\n",
       "      <th>Z</th>\n",
       "      <th>Intensity</th>\n",
       "      <th>ReturnNumber</th>\n",
       "      <th>NumberOfReturns</th>\n",
       "      <th>ScanDirectionFlag</th>\n",
       "      <th>EdgeOfFlightLine</th>\n",
       "      <th>Classification</th>\n",
       "      <th>ScanAngleRank</th>\n",
       "      <th>UserData</th>\n",
       "      <th>PointSourceId</th>\n",
       "      <th>GpsTime</th>\n",
       "      <th>Red</th>\n",
       "      <th>Green</th>\n",
       "      <th>Blue</th>\n",
       "      <th>OriginId</th>\n",
       "      <th>HeightAboveGround</th>\n",
       "    </tr>\n",
       "  </thead>\n",
       "  <tbody>\n",
       "    <tr>\n",
       "      <th>0</th>\n",
       "      <td>347222.81</td>\n",
       "      <td>7400422.32</td>\n",
       "      <td>764.16</td>\n",
       "      <td>52</td>\n",
       "      <td>1</td>\n",
       "      <td>1</td>\n",
       "      <td>0</td>\n",
       "      <td>0</td>\n",
       "      <td>6</td>\n",
       "      <td>18.0</td>\n",
       "      <td>13</td>\n",
       "      <td>27</td>\n",
       "      <td>1.744047e+08</td>\n",
       "      <td>55808</td>\n",
       "      <td>55552</td>\n",
       "      <td>53248</td>\n",
       "      <td>5434</td>\n",
       "      <td>13.150000</td>\n",
       "    </tr>\n",
       "    <tr>\n",
       "      <th>1</th>\n",
       "      <td>347219.46</td>\n",
       "      <td>7400499.30</td>\n",
       "      <td>770.71</td>\n",
       "      <td>17</td>\n",
       "      <td>1</td>\n",
       "      <td>2</td>\n",
       "      <td>0</td>\n",
       "      <td>0</td>\n",
       "      <td>6</td>\n",
       "      <td>3.0</td>\n",
       "      <td>20</td>\n",
       "      <td>28</td>\n",
       "      <td>1.747504e+08</td>\n",
       "      <td>45568</td>\n",
       "      <td>45312</td>\n",
       "      <td>44032</td>\n",
       "      <td>5434</td>\n",
       "      <td>20.040000</td>\n",
       "    </tr>\n",
       "    <tr>\n",
       "      <th>2</th>\n",
       "      <td>347205.60</td>\n",
       "      <td>7400476.28</td>\n",
       "      <td>758.60</td>\n",
       "      <td>43</td>\n",
       "      <td>1</td>\n",
       "      <td>1</td>\n",
       "      <td>1</td>\n",
       "      <td>0</td>\n",
       "      <td>6</td>\n",
       "      <td>10.0</td>\n",
       "      <td>8</td>\n",
       "      <td>28</td>\n",
       "      <td>1.747501e+08</td>\n",
       "      <td>28160</td>\n",
       "      <td>27904</td>\n",
       "      <td>26112</td>\n",
       "      <td>5434</td>\n",
       "      <td>7.722096</td>\n",
       "    </tr>\n",
       "    <tr>\n",
       "      <th>3</th>\n",
       "      <td>347241.13</td>\n",
       "      <td>7400474.19</td>\n",
       "      <td>757.92</td>\n",
       "      <td>33</td>\n",
       "      <td>1</td>\n",
       "      <td>1</td>\n",
       "      <td>1</td>\n",
       "      <td>0</td>\n",
       "      <td>6</td>\n",
       "      <td>5.0</td>\n",
       "      <td>7</td>\n",
       "      <td>28</td>\n",
       "      <td>1.747504e+08</td>\n",
       "      <td>29440</td>\n",
       "      <td>30976</td>\n",
       "      <td>28672</td>\n",
       "      <td>5434</td>\n",
       "      <td>6.540758</td>\n",
       "    </tr>\n",
       "    <tr>\n",
       "      <th>4</th>\n",
       "      <td>347240.54</td>\n",
       "      <td>7400439.92</td>\n",
       "      <td>764.06</td>\n",
       "      <td>86</td>\n",
       "      <td>1</td>\n",
       "      <td>1</td>\n",
       "      <td>1</td>\n",
       "      <td>0</td>\n",
       "      <td>6</td>\n",
       "      <td>8.0</td>\n",
       "      <td>13</td>\n",
       "      <td>28</td>\n",
       "      <td>1.747504e+08</td>\n",
       "      <td>56320</td>\n",
       "      <td>55552</td>\n",
       "      <td>53504</td>\n",
       "      <td>5434</td>\n",
       "      <td>12.440000</td>\n",
       "    </tr>\n",
       "  </tbody>\n",
       "</table>\n",
       "</div>"
      ],
      "text/plain": [
       "           X           Y       Z  Intensity  ReturnNumber  NumberOfReturns  \\\n",
       "0  347222.81  7400422.32  764.16         52             1                1   \n",
       "1  347219.46  7400499.30  770.71         17             1                2   \n",
       "2  347205.60  7400476.28  758.60         43             1                1   \n",
       "3  347241.13  7400474.19  757.92         33             1                1   \n",
       "4  347240.54  7400439.92  764.06         86             1                1   \n",
       "\n",
       "   ScanDirectionFlag  EdgeOfFlightLine  Classification  ScanAngleRank  \\\n",
       "0                  0                 0               6           18.0   \n",
       "1                  0                 0               6            3.0   \n",
       "2                  1                 0               6           10.0   \n",
       "3                  1                 0               6            5.0   \n",
       "4                  1                 0               6            8.0   \n",
       "\n",
       "   UserData  PointSourceId       GpsTime    Red  Green   Blue  OriginId  \\\n",
       "0        13             27  1.744047e+08  55808  55552  53248      5434   \n",
       "1        20             28  1.747504e+08  45568  45312  44032      5434   \n",
       "2         8             28  1.747501e+08  28160  27904  26112      5434   \n",
       "3         7             28  1.747504e+08  29440  30976  28672      5434   \n",
       "4        13             28  1.747504e+08  56320  55552  53504      5434   \n",
       "\n",
       "   HeightAboveGround  \n",
       "0          13.150000  \n",
       "1          20.040000  \n",
       "2           7.722096  \n",
       "3           6.540758  \n",
       "4          12.440000  "
      ]
     },
     "execution_count": 26,
     "metadata": {},
     "output_type": "execute_result"
    }
   ],
   "source": [
    "import pandas as pd\n",
    "arr = pipeline.arrays[0]\n",
    "df = pd.DataFrame(arr)\n",
    "# print(df.head().to_latex(index=False))\n",
    "df.head()"
   ]
  },
  {
   "cell_type": "code",
   "execution_count": 28,
   "metadata": {},
   "outputs": [],
   "source": [
    "# Reduzindo valores a mínimos para poderem ser visualizados\n",
    "coord_minimas = df[['X', 'Y', 'Z']].min()\n",
    "df[['X', 'Y', 'Z']] = df[['X', 'Y', 'Z']] - coord_minimas"
   ]
  },
  {
   "cell_type": "code",
   "execution_count": 30,
   "metadata": {},
   "outputs": [
    {
     "data": {
      "text/plain": [
       "array([ 6, 19,  5,  2, 20], dtype=uint8)"
      ]
     },
     "execution_count": 30,
     "metadata": {},
     "output_type": "execute_result"
    }
   ],
   "source": [
    "df.Classification.unique()"
   ]
  },
  {
   "cell_type": "code",
   "execution_count": 33,
   "metadata": {},
   "outputs": [],
   "source": [
    "## Separando apenas Buildings\n",
    "bd = df[df.Classification.isin([6])].reset_index()"
   ]
  },
  {
   "cell_type": "code",
   "execution_count": 34,
   "metadata": {},
   "outputs": [],
   "source": [
    "bd.index.name = 'id'"
   ]
  },
  {
   "cell_type": "code",
   "execution_count": 35,
   "metadata": {},
   "outputs": [],
   "source": [
    "CELL = 0.40"
   ]
  },
  {
   "cell_type": "code",
   "execution_count": 36,
   "metadata": {},
   "outputs": [],
   "source": [
    "bd.X, bd.Y = round(round((1/CELL) * bd.X) * CELL, 1), round(round((1/CELL) * bd.Y) * CELL, 1)"
   ]
  },
  {
   "cell_type": "code",
   "execution_count": 37,
   "metadata": {},
   "outputs": [],
   "source": [
    "z_max = bd[['X', 'Y', 'Z', 'HeightAboveGround']].groupby(['X', 'Y']).max()"
   ]
  },
  {
   "cell_type": "code",
   "execution_count": 38,
   "metadata": {},
   "outputs": [],
   "source": [
    "bd.set_index(['X', 'Y']).Z = z_max"
   ]
  },
  {
   "cell_type": "code",
   "execution_count": 39,
   "metadata": {},
   "outputs": [],
   "source": [
    "bd_voxel = pd.DataFrame(z_max, columns=['Z', 'HeightAboveGround']).reset_index()"
   ]
  },
  {
   "cell_type": "code",
   "execution_count": null,
   "metadata": {},
   "outputs": [],
   "source": []
  },
  {
   "cell_type": "code",
   "execution_count": 45,
   "metadata": {},
   "outputs": [],
   "source": [
    "from sklearn.cluster import DBSCAN #, OPTICS\n",
    "from sklearn import preprocessing\n",
    "import numpy as np"
   ]
  },
  {
   "cell_type": "code",
   "execution_count": 46,
   "metadata": {},
   "outputs": [],
   "source": [
    "X = bd_voxel[['X', 'Y', 'Z']]"
   ]
  },
  {
   "cell_type": "code",
   "execution_count": 47,
   "metadata": {},
   "outputs": [],
   "source": [
    "# EPS = 1.50\n",
    "# MIN_SAMPLES = 12\n",
    "EPS = 1.5\n",
    "MIN_SAMPLES = 6"
   ]
  },
  {
   "cell_type": "code",
   "execution_count": 48,
   "metadata": {},
   "outputs": [],
   "source": [
    "clustering = DBSCAN(eps=EPS, min_samples=MIN_SAMPLES).fit(X)\n",
    "# clustering = OPTICS(min_samples=MIN_SAMPLES).fit(X)"
   ]
  },
  {
   "cell_type": "code",
   "execution_count": 49,
   "metadata": {},
   "outputs": [
    {
     "data": {
      "text/plain": [
       "array([-1,  0,  1,  2,  3,  4,  5,  6,  7,  8,  9, 10, 11, 12, 13, 14, 15,\n",
       "       16, 17, 18, 19, 20, 21, 22, 23, 24, 25, 26, 27, 28, 29, 30, 31, 32,\n",
       "       33])"
      ]
     },
     "execution_count": 49,
     "metadata": {},
     "output_type": "execute_result"
    }
   ],
   "source": [
    "np.unique(clustering.labels_)"
   ]
  },
  {
   "cell_type": "code",
   "execution_count": 50,
   "metadata": {},
   "outputs": [],
   "source": [
    "bd_voxel['ClusterID'] = clustering.labels_"
   ]
  },
  {
   "cell_type": "code",
   "execution_count": null,
   "metadata": {},
   "outputs": [],
   "source": []
  },
  {
   "cell_type": "markdown",
   "metadata": {},
   "source": [
    "## Visualizando a nuvem de pontos"
   ]
  },
  {
   "cell_type": "code",
   "execution_count": 51,
   "metadata": {},
   "outputs": [],
   "source": [
    "color_choices = np.random.rand(bd_voxel.ClusterID.max()+1, 3)"
   ]
  },
  {
   "cell_type": "code",
   "execution_count": 52,
   "metadata": {},
   "outputs": [],
   "source": [
    "color_choices[-1] = np.array([1.,1.,1.])"
   ]
  },
  {
   "cell_type": "code",
   "execution_count": 53,
   "metadata": {},
   "outputs": [],
   "source": [
    "colors = list(map(lambda x: color_choices[x], bd_voxel.ClusterID))"
   ]
  },
  {
   "cell_type": "code",
   "execution_count": 54,
   "metadata": {},
   "outputs": [
    {
     "data": {
      "application/vnd.jupyter.widget-view+json": {
       "model_id": "c111c415e54e4cf2847990424c898548",
       "version_major": 2,
       "version_minor": 0
      },
      "text/plain": [
       "VBox(children=(Figure(camera=PerspectiveCamera(fov=46.0, position=(0.0, 0.0, 2.0), quaternion=(0.0, 0.0, 0.0, …"
      ]
     },
     "metadata": {},
     "output_type": "display_data"
    }
   ],
   "source": [
    "import ipyvolume as p3 \n",
    "\n",
    "fig = p3.figure(width=1000)\n",
    "fig.xlabel='Y'\n",
    "fig.ylabel='Z'\n",
    "fig.zlabel='X'\n",
    "all_points = p3.scatter(bd_voxel['Y'], bd_voxel['Z'], bd_voxel['X'], color=colors, size=0.4)\n",
    "# all_points = p3.scatter(bd['Y'], bd['Z'], bd['X'], color=list(map(lambda x: [x,x,x], bd.Curvature)), size=1, marker='square_2d')\n",
    "\n",
    "p3.squarelim()\n",
    "\n",
    "p3.show()"
   ]
  },
  {
   "cell_type": "code",
   "execution_count": null,
   "metadata": {},
   "outputs": [],
   "source": []
  },
  {
   "cell_type": "markdown",
   "metadata": {},
   "source": [
    "# Quantificando"
   ]
  },
  {
   "cell_type": "markdown",
   "metadata": {},
   "source": [
    "# Exportando"
   ]
  },
  {
   "cell_type": "code",
   "execution_count": null,
   "metadata": {},
   "outputs": [],
   "source": []
  }
 ],
 "metadata": {
  "kernelspec": {
   "display_name": "Python 3",
   "language": "python",
   "name": "python3"
  },
  "language_info": {
   "codemirror_mode": {
    "name": "ipython",
    "version": 3
   },
   "file_extension": ".py",
   "mimetype": "text/x-python",
   "name": "python",
   "nbconvert_exporter": "python",
   "pygments_lexer": "ipython3",
   "version": "3.7.6"
  }
 },
 "nbformat": 4,
 "nbformat_minor": 4
}
