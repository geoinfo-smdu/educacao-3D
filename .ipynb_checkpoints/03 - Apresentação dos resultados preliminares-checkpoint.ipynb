{
 "cells": [
  {
   "cell_type": "markdown",
   "metadata": {
    "slideshow": {
     "slide_type": "slide"
    }
   },
   "source": [
    "# Educação 3D\n",
    "\n",
    "Estudo para levantamento 3D dos edifícios utilizados como equipamentos de Educação"
   ]
  },
  {
   "cell_type": "markdown",
   "metadata": {
    "slideshow": {
     "slide_type": "slide"
    }
   },
   "source": [
    "## Motivação\n",
    "\n",
    "* Inventário quantitativo dos elementos edificados \n",
    "* Documentar, fiscalizar e contratar melhor\n",
    "* Modelos 3D para trabalhos pedagógicos\n",
    "* Pode promover gestão de facilidades, Facility Management (FM), modelo BIM"
   ]
  },
  {
   "cell_type": "markdown",
   "metadata": {
    "slideshow": {
     "slide_type": "slide"
    }
   },
   "source": [
    "## Objetivo\n",
    "\n",
    ">Método automatizado para quantificar os elementos físicos, edificados e vegetados dos equipamento públicos da Educação Municipal da cidade de São Paulo\n",
    "\n",
    "* Documentar, concentrar e disseminar o conhecimento metodológico"
   ]
  },
  {
   "cell_type": "markdown",
   "metadata": {
    "slideshow": {
     "slide_type": "slide"
    }
   },
   "source": [
    "## Materiais\n",
    "\n",
    "* Dados vetoriais, espacializados, cadastro de equipamentos de educação, GeoSampa\n",
    "* Levantamento LiDAR 3D (2017)\n",
    "* Mapa da vegetação, sub-produto LiDAR\n",
    "* Python, bibliotecas de código aberto, disseminação pelo GitHub"
   ]
  },
  {
   "cell_type": "markdown",
   "metadata": {
    "slideshow": {
     "slide_type": "slide"
    }
   },
   "source": [
    "## Método\n",
    "\n",
    "### CEUs selecionados"
   ]
  },
  {
   "cell_type": "code",
   "execution_count": 4,
   "metadata": {
    "slideshow": {
     "slide_type": "fragment"
    }
   },
   "outputs": [],
   "source": [
    "import geopandas as gpd\n",
    "gdf_ceus = gpd.read_file('resultados/ceus-escolhidos.geojson')"
   ]
  },
  {
   "cell_type": "code",
   "execution_count": 15,
   "metadata": {
    "slideshow": {
     "slide_type": "fragment"
    }
   },
   "outputs": [
    {
     "name": "stdout",
     "output_type": "stream",
     "text": [
      "['CEU CEI UIRAPURU', 'CEU CEI CAMPO LIMPO', 'CEU CEI GUARAPIRANGA', 'CEU CEI PERUS', 'CEU CEI CIDADE DUTRA', 'CEU CEI TRES LAGOS', 'CEU CEI CAMINHO DO MAR', 'CEU CEI MENINOS', 'CEU CEI WALTER DE ANDRADE PROF', 'CEU CEI QUINTA DO SOL', 'CEU CEI SAO MATEUS', 'CEU CEI SILVANA APARECIDA TOBIAS PROFA', 'CEU CEI PARQUE VEREDAS', 'CEU CEI TRES PONTES']\n"
     ]
    }
   ],
   "source": [
    "print(str(gdf_ceus.nm_equipamento.to_list()))"
   ]
  },
  {
   "cell_type": "markdown",
   "metadata": {
    "slideshow": {
     "slide_type": "subslide"
    }
   },
   "source": [
    "### Levantamento da nuvem de pontos para cada CEU selecionado\n",
    "\n",
    "> Foram gerados 15 arquivos LAZ que ficam na pasta `resultados/LAZ`"
   ]
  },
  {
   "cell_type": "markdown",
   "metadata": {
    "slideshow": {
     "slide_type": "subslide"
    }
   },
   "source": [
    "### Reconstrução das geometrias das edificações\n",
    "\n",
    "> As geometrias 2.5 das edificações foram obtidas atravéz de algorítimo e estão disponibilizadas no arquivo `resultados/edifícios.gpkg`"
   ]
  },
  {
   "cell_type": "markdown",
   "metadata": {
    "slideshow": {
     "slide_type": "subslide"
    }
   },
   "source": [
    "### Levantamento das áreas vegetadas\n",
    "\n",
    "> O mapeamento da cobertura vegetada de cada CEU selecionado está disponível no arquivo `resultados/cobertura_vegetal_CEUS.geojson`"
   ]
  },
  {
   "cell_type": "markdown",
   "metadata": {
    "slideshow": {
     "slide_type": "subslide"
    }
   },
   "source": [
    "### Exportação do modelo BIM/IFC\n",
    "\n",
    "* Em processamento\n",
    "* Pode proporcionar administração de gestão de facilidades além de visualização 3D\n"
   ]
  },
  {
   "cell_type": "markdown",
   "metadata": {
    "slideshow": {
     "slide_type": "slide"
    }
   },
   "source": [
    "## Resultados\n",
    "\n",
    "* Em processamento\n",
    "* Tabular os índices para cada CEU selecionado"
   ]
  },
  {
   "cell_type": "markdown",
   "metadata": {
    "slideshow": {
     "slide_type": "slide"
    }
   },
   "source": [
    "## Considerações finais\n",
    "\n",
    "* A questão do cadastro e dos limites físicos dos CEUs e equipamentos de educação"
   ]
  },
  {
   "cell_type": "code",
   "execution_count": null,
   "metadata": {},
   "outputs": [],
   "source": []
  }
 ],
 "metadata": {
  "celltoolbar": "Slideshow",
  "kernelspec": {
   "display_name": "Python 3",
   "language": "python",
   "name": "python3"
  },
  "language_info": {
   "codemirror_mode": {
    "name": "ipython",
    "version": 3
   },
   "file_extension": ".py",
   "mimetype": "text/x-python",
   "name": "python",
   "nbconvert_exporter": "python",
   "pygments_lexer": "ipython3",
   "version": "3.7.6"
  }
 },
 "nbformat": 4,
 "nbformat_minor": 4
}
