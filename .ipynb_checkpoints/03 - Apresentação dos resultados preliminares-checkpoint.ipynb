{
 "cells": [
  {
   "cell_type": "markdown",
   "metadata": {},
   "source": [
    "# Educação 3D\n",
    "\n",
    "Estudo para levantamento 3D dos edifícios utilizados como equipamentos de Educação"
   ]
  },
  {
   "cell_type": "markdown",
   "metadata": {},
   "source": [
    "## Motivação\n",
    "\n",
    "* Inventário quantitativo dos elementos edificados \n",
    "* Documentar, fiscalizar e contratar melhor\n",
    "* Modelos 3D para trabalhos pedagógicos\n",
    "* Pode promover gestão de facilidades, Facility Management (FM), modelo BIM"
   ]
  },
  {
   "cell_type": "markdown",
   "metadata": {},
   "source": [
    "## Objetivo\n",
    "\n",
    ">Método automatizado para quantificar os elementos físicos, edificados e vegetados dos equipamento públicos da Educação Municipal da cidade de São Paulo\n",
    "\n",
    "* Documentar, concentrar e disseminar o conhecimento metodológico"
   ]
  },
  {
   "cell_type": "markdown",
   "metadata": {},
   "source": [
    "## Materiais\n",
    "\n",
    "* Dados vetoriais, espacializados, cadastro de equipamentos de educação, GeoSampa\n",
    "* Levantamento LiDAR 3D (2017)\n",
    "* Mapa da vegetação, sub-produto LiDAR\n",
    "* Python, bibliotecas de código aberto, disseminação pelo GitHub"
   ]
  },
  {
   "cell_type": "markdown",
   "metadata": {},
   "source": [
    "## Método\n",
    "\n",
    "### CEUs selecionados"
   ]
  },
  {
   "cell_type": "markdown",
   "metadata": {},
   "source": [
    "### Levantamento da nuvem de pontos para cada CEU selecionado"
   ]
  },
  {
   "cell_type": "markdown",
   "metadata": {},
   "source": [
    "### Reconstrução das geometrias das edificações"
   ]
  },
  {
   "cell_type": "markdown",
   "metadata": {},
   "source": [
    "### Levantamento das áreas vegetadas"
   ]
  },
  {
   "cell_type": "markdown",
   "metadata": {},
   "source": [
    "### Exportação do modelo BIM/IFC"
   ]
  },
  {
   "cell_type": "markdown",
   "metadata": {},
   "source": [
    "## Resultados"
   ]
  },
  {
   "cell_type": "markdown",
   "metadata": {},
   "source": [
    "## Considerações finais"
   ]
  },
  {
   "cell_type": "code",
   "execution_count": null,
   "metadata": {},
   "outputs": [],
   "source": []
  }
 ],
 "metadata": {
  "kernelspec": {
   "display_name": "Python 3",
   "language": "python",
   "name": "python3"
  },
  "language_info": {
   "codemirror_mode": {
    "name": "ipython",
    "version": 3
   },
   "file_extension": ".py",
   "mimetype": "text/x-python",
   "name": "python",
   "nbconvert_exporter": "python",
   "pygments_lexer": "ipython3",
   "version": "3.7.6"
  }
 },
 "nbformat": 4,
 "nbformat_minor": 4
}
