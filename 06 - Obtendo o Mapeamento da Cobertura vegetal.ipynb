{
 "cells": [
  {
   "cell_type": "markdown",
   "metadata": {},
   "source": [
    "# Obtendo mapeamento da cobertura vegetal para cada CEU selecionado\n"
   ]
  },
  {
   "cell_type": "code",
   "execution_count": 32,
   "metadata": {},
   "outputs": [],
   "source": [
    "from owslib.wfs import WebFeatureService\n",
    "import json\n",
    "import geopandas as gpd\n",
    "import pandas as pd\n",
    "from shapely.geometry import shape"
   ]
  },
  {
   "cell_type": "code",
   "execution_count": 2,
   "metadata": {},
   "outputs": [],
   "source": [
    "url_wfs = 'http://wfs.geosampa.prefeitura.sp.gov.br/geoserver/geoportal/wfs'\n",
    "\n",
    "wfs = WebFeatureService(url_wfs, version='2.0.0')"
   ]
  },
  {
   "cell_type": "code",
   "execution_count": 5,
   "metadata": {},
   "outputs": [],
   "source": [
    "gdf_ceus = gpd.read_file('resultados/ceus-escolhidos.geojson')"
   ]
  },
  {
   "cell_type": "code",
   "execution_count": 27,
   "metadata": {},
   "outputs": [
    {
     "name": "stdout",
     "output_type": "stream",
     "text": [
      "(317247.1482445641, 7388755.143027619, 317528.8214708217, 7388994.9060554905)\n",
      "(318306.4434723994, 7384628.558360793, 318571.16036032455, 7384934.090163955)\n",
      "(319890.57513510063, 7377988.841871748, 320256.55651514267, 7378375.122407695)\n",
      "(320904.3704584522, 7410127.526538454, 321136.8525394323, 7410479.161071731)\n",
      "(326112.475046417, 7376672.361732628, 326281.31522084004, 7376837.391968783)\n",
      "(328668.89251543, 7370348.694575467, 328983.25522196194, 7370579.632080788)\n",
      "(333102.712510334, 7381468.849351299, 333408.16293420474, 7381728.789647709)\n",
      "(338427.69346851576, 7386738.529259462, 338606.5228488077, 7387022.89792477)\n",
      "(341254.82501643174, 7398229.286090795, 341451.85025319865, 7398422.5323579535)\n",
      "(347160.21901244996, 7400404.722107351, 347283.8361503598, 7400561.778300752)\n",
      "(352100.07352204353, 7388823.168506137, 352186.03566731367, 7389045.105777122)\n",
      "(356944.4683261367, 7395368.552683525, 357103.9804870436, 7395600.167895382)\n",
      "(358008.44596590544, 7398905.43737001, 358193.5682059181, 7399041.008523675)\n",
      "(358863.94189934153, 7402736.691403162, 359068.7576046769, 7403068.894466063)\n"
     ]
    }
   ],
   "source": [
    "cobertura_vegetal = []\n",
    "\n",
    "for k, r in gdf_ceus.iterrows():\n",
    "    c = r.geometry\n",
    "    print(c.bounds)\n",
    "    response = wfs.getfeature(typename='geoportal:cobertura_vegetal', outputFormat='application/json',\n",
    "                          bbox = c.bounds)\n",
    "    cv = json.loads(response.read())\n",
    "    cobertura_vegetal.append(gpd.GeoDataFrame.from_features(cv['features']))"
   ]
  },
  {
   "cell_type": "code",
   "execution_count": 34,
   "metadata": {},
   "outputs": [],
   "source": [
    "gdf_cobertura_vegetal = gpd.GeoDataFrame(pd.concat(cobertura_vegetal, ignore_index=True))"
   ]
  },
  {
   "cell_type": "code",
   "execution_count": 36,
   "metadata": {},
   "outputs": [],
   "source": [
    "gdf_cobertura_vegetal.to_file('resultados/cobertura_vegetal_CEUs.geojson', driver='GeoJSON')"
   ]
  },
  {
   "cell_type": "code",
   "execution_count": null,
   "metadata": {},
   "outputs": [],
   "source": []
  }
 ],
 "metadata": {
  "kernelspec": {
   "display_name": "Python 3",
   "language": "python",
   "name": "python3"
  },
  "language_info": {
   "codemirror_mode": {
    "name": "ipython",
    "version": 3
   },
   "file_extension": ".py",
   "mimetype": "text/x-python",
   "name": "python",
   "nbconvert_exporter": "python",
   "pygments_lexer": "ipython3",
   "version": "3.7.6"
  }
 },
 "nbformat": 4,
 "nbformat_minor": 4
}
