{
 "cells": [
  {
   "cell_type": "markdown",
   "metadata": {},
   "source": [
    "# Gerando quantitativos\n",
    "\n",
    "Neste notebook serão gerados os seuintes quantitativos para os 14 CEUs selecionados:\n",
    "\n",
    "* Área total\n",
    "* Perímetro\n",
    "* Área projeção edificada\n",
    "* Área vegetada\n",
    "* Volume edificado\n",
    "* Taxa de ocupação\n",
    "* Coeficiente volumétrico de aproveitamento\n"
   ]
  },
  {
   "cell_type": "code",
   "execution_count": 115,
   "metadata": {},
   "outputs": [],
   "source": [
    "import geopandas as gpd\n",
    "import pandas as pd"
   ]
  },
  {
   "cell_type": "code",
   "execution_count": 84,
   "metadata": {},
   "outputs": [],
   "source": [
    "gdf_ceus = gpd.read_file('resultados/ceus-escolhidos.geojson')"
   ]
  },
  {
   "cell_type": "code",
   "execution_count": 85,
   "metadata": {},
   "outputs": [],
   "source": [
    "gdf_veg = gpd.read_file('resultados/cobertura_vegetal_CEUs_recortado.gpkg')"
   ]
  },
  {
   "cell_type": "code",
   "execution_count": 105,
   "metadata": {},
   "outputs": [],
   "source": [
    "gdf_edif = gpd.read_file('resultados/edifícios.gpkg')\n",
    "gdf_edif.crs = 'EPSG:31983'"
   ]
  },
  {
   "cell_type": "code",
   "execution_count": 106,
   "metadata": {},
   "outputs": [],
   "source": [
    "gdf_ceus = gdf_ceus[['cd_identificador', 'nm_equipamento', 'geometry']]"
   ]
  },
  {
   "cell_type": "code",
   "execution_count": 107,
   "metadata": {},
   "outputs": [],
   "source": [
    "gdf_veg = gdf_veg[['tx_descricao_categoria_subcategoria', 'geometry']]"
   ]
  },
  {
   "cell_type": "code",
   "execution_count": 108,
   "metadata": {},
   "outputs": [],
   "source": [
    "gdf_edif = gdf_edif[['altura_int', 'geometry']]"
   ]
  },
  {
   "cell_type": "code",
   "execution_count": 109,
   "metadata": {},
   "outputs": [],
   "source": [
    "gdf_edif.loc[:, 'volume_edificado'] = gdf_edif.area * gdf_edif.altura_int"
   ]
  },
  {
   "cell_type": "code",
   "execution_count": 110,
   "metadata": {},
   "outputs": [],
   "source": [
    "gdf_edif.loc[:, 'area_projecao_edificada'] = gdf_edif.area"
   ]
  },
  {
   "cell_type": "code",
   "execution_count": 124,
   "metadata": {},
   "outputs": [],
   "source": [
    "edif = (gpd.sjoin(gdf_ceus, gdf_edif, how='left', op='contains')\n",
    "        .rename_axis('id')\n",
    "        .groupby('id')\n",
    "        .sum()[['volume_edificado', 'area_projecao_edificada']])"
   ]
  },
  {
   "cell_type": "code",
   "execution_count": 134,
   "metadata": {},
   "outputs": [],
   "source": [
    "gdf_ceus = gdf_ceus.join(edif)"
   ]
  },
  {
   "cell_type": "code",
   "execution_count": 137,
   "metadata": {},
   "outputs": [],
   "source": [
    "gdf_veg.loc[:, 'area_vegetada'] = gdf_veg.area"
   ]
  },
  {
   "cell_type": "code",
   "execution_count": 139,
   "metadata": {},
   "outputs": [],
   "source": [
    "veg = (gpd.sjoin(gdf_ceus, gdf_veg, how='left', op='contains')\n",
    "        .rename_axis('id')\n",
    "        .groupby('id')\n",
    "        .sum()[['area_vegetada']])"
   ]
  },
  {
   "cell_type": "code",
   "execution_count": 141,
   "metadata": {},
   "outputs": [],
   "source": [
    "gdf_ceus = gdf_ceus.join(veg)"
   ]
  },
  {
   "cell_type": "code",
   "execution_count": 144,
   "metadata": {},
   "outputs": [],
   "source": [
    "gdf_ceus.loc[:, 'area_total'] = gdf_ceus.area"
   ]
  },
  {
   "cell_type": "code",
   "execution_count": 149,
   "metadata": {},
   "outputs": [],
   "source": [
    "gdf_ceus.loc[:, 'perimetro'] = gdf_ceus.length"
   ]
  },
  {
   "cell_type": "code",
   "execution_count": 151,
   "metadata": {},
   "outputs": [],
   "source": [
    "gdf_ceus.loc[:, 'taxa_de_ocupacao'] = gdf_ceus.area_projecao_edificada / gdf_ceus.area_total"
   ]
  },
  {
   "cell_type": "code",
   "execution_count": 152,
   "metadata": {},
   "outputs": [],
   "source": [
    "gdf_ceus.loc[:, 'coeficiente_volumetrico_aproveitamento'] = gdf_ceus.volume_edificado / gdf_ceus.area_total"
   ]
  },
  {
   "cell_type": "code",
   "execution_count": 153,
   "metadata": {},
   "outputs": [
    {
     "data": {
      "text/html": [
       "<div>\n",
       "<style scoped>\n",
       "    .dataframe tbody tr th:only-of-type {\n",
       "        vertical-align: middle;\n",
       "    }\n",
       "\n",
       "    .dataframe tbody tr th {\n",
       "        vertical-align: top;\n",
       "    }\n",
       "\n",
       "    .dataframe thead th {\n",
       "        text-align: right;\n",
       "    }\n",
       "</style>\n",
       "<table border=\"1\" class=\"dataframe\">\n",
       "  <thead>\n",
       "    <tr style=\"text-align: right;\">\n",
       "      <th></th>\n",
       "      <th>cd_identificador</th>\n",
       "      <th>nm_equipamento</th>\n",
       "      <th>geometry</th>\n",
       "      <th>volume_edificado</th>\n",
       "      <th>area_projecao_edificada</th>\n",
       "      <th>area_vegetada</th>\n",
       "      <th>area_total</th>\n",
       "      <th>perimetro</th>\n",
       "      <th>taxa_de_ocupacao</th>\n",
       "      <th>coeficiente_volumetrico_aproveitamento</th>\n",
       "    </tr>\n",
       "  </thead>\n",
       "  <tbody>\n",
       "    <tr>\n",
       "      <th>0</th>\n",
       "      <td>50102.0</td>\n",
       "      <td>CEU CEI UIRAPURU</td>\n",
       "      <td>POLYGON ((317434.250 7388857.309, 317347.376 7...</td>\n",
       "      <td>75849.120000</td>\n",
       "      <td>6494.56</td>\n",
       "      <td>1231.376962</td>\n",
       "      <td>20393.378568</td>\n",
       "      <td>823.891599</td>\n",
       "      <td>0.318464</td>\n",
       "      <td>3.719301</td>\n",
       "    </tr>\n",
       "    <tr>\n",
       "      <th>1</th>\n",
       "      <td>50242.0</td>\n",
       "      <td>CEU CEI CAMPO LIMPO</td>\n",
       "      <td>POLYGON ((318559.041 7384884.278, 318563.964 7...</td>\n",
       "      <td>68787.440000</td>\n",
       "      <td>5701.76</td>\n",
       "      <td>87.031043</td>\n",
       "      <td>32623.638982</td>\n",
       "      <td>891.119086</td>\n",
       "      <td>0.174774</td>\n",
       "      <td>2.108515</td>\n",
       "    </tr>\n",
       "    <tr>\n",
       "      <th>2</th>\n",
       "      <td>50415.0</td>\n",
       "      <td>CEU CEI GUARAPIRANGA</td>\n",
       "      <td>POLYGON ((320219.934 7378087.306, 320225.207 7...</td>\n",
       "      <td>102852.400000</td>\n",
       "      <td>10332.96</td>\n",
       "      <td>6773.126496</td>\n",
       "      <td>77070.098593</td>\n",
       "      <td>1242.308071</td>\n",
       "      <td>0.134072</td>\n",
       "      <td>1.334531</td>\n",
       "    </tr>\n",
       "    <tr>\n",
       "      <th>3</th>\n",
       "      <td>50649.0</td>\n",
       "      <td>CEU CEI PERUS</td>\n",
       "      <td>POLYGON ((320904.370 7410458.125, 320943.634 7...</td>\n",
       "      <td>64403.360000</td>\n",
       "      <td>4900.08</td>\n",
       "      <td>158.344544</td>\n",
       "      <td>20488.761606</td>\n",
       "      <td>1022.427347</td>\n",
       "      <td>0.239159</td>\n",
       "      <td>3.143351</td>\n",
       "    </tr>\n",
       "    <tr>\n",
       "      <th>4</th>\n",
       "      <td>51660.0</td>\n",
       "      <td>CEU CEI CIDADE DUTRA</td>\n",
       "      <td>POLYGON ((326271.898 7376707.519, 326265.685 7...</td>\n",
       "      <td>65765.200000</td>\n",
       "      <td>5053.04</td>\n",
       "      <td>18.871165</td>\n",
       "      <td>12043.412306</td>\n",
       "      <td>529.278391</td>\n",
       "      <td>0.419569</td>\n",
       "      <td>5.460678</td>\n",
       "    </tr>\n",
       "    <tr>\n",
       "      <th>5</th>\n",
       "      <td>52295.0</td>\n",
       "      <td>CEU CEI TRES LAGOS</td>\n",
       "      <td>POLYGON ((328814.200 7370348.695, 328806.100 7...</td>\n",
       "      <td>75599.120000</td>\n",
       "      <td>5669.76</td>\n",
       "      <td>6360.202979</td>\n",
       "      <td>47917.349302</td>\n",
       "      <td>925.582953</td>\n",
       "      <td>0.118324</td>\n",
       "      <td>1.577698</td>\n",
       "    </tr>\n",
       "    <tr>\n",
       "      <th>6</th>\n",
       "      <td>53337.0</td>\n",
       "      <td>CEU CEI CAMINHO DO MAR</td>\n",
       "      <td>POLYGON ((333388.003 7381564.589, 333408.163 7...</td>\n",
       "      <td>99841.680000</td>\n",
       "      <td>5779.28</td>\n",
       "      <td>1217.812367</td>\n",
       "      <td>42249.994437</td>\n",
       "      <td>1104.578325</td>\n",
       "      <td>0.136788</td>\n",
       "      <td>2.363117</td>\n",
       "    </tr>\n",
       "    <tr>\n",
       "      <th>7</th>\n",
       "      <td>54200.0</td>\n",
       "      <td>CEU CEI MENINOS</td>\n",
       "      <td>POLYGON ((338546.576 7386740.311, 338541.382 7...</td>\n",
       "      <td>64987.920000</td>\n",
       "      <td>4986.96</td>\n",
       "      <td>430.185286</td>\n",
       "      <td>33943.161764</td>\n",
       "      <td>789.297742</td>\n",
       "      <td>0.146921</td>\n",
       "      <td>1.914610</td>\n",
       "    </tr>\n",
       "    <tr>\n",
       "      <th>8</th>\n",
       "      <td>54508.0</td>\n",
       "      <td>CEU CEI WALTER DE ANDRADE PROF</td>\n",
       "      <td>POLYGON ((341448.825 7398388.873, 341451.850 7...</td>\n",
       "      <td>105997.840001</td>\n",
       "      <td>9980.48</td>\n",
       "      <td>1498.829315</td>\n",
       "      <td>29859.065336</td>\n",
       "      <td>649.290816</td>\n",
       "      <td>0.334253</td>\n",
       "      <td>3.549938</td>\n",
       "    </tr>\n",
       "    <tr>\n",
       "      <th>9</th>\n",
       "      <td>55098.0</td>\n",
       "      <td>CEU CEI QUINTA DO SOL</td>\n",
       "      <td>POLYGON ((347223.688 7400518.334, 347235.324 7...</td>\n",
       "      <td>82764.000001</td>\n",
       "      <td>5048.08</td>\n",
       "      <td>41.404250</td>\n",
       "      <td>9930.129737</td>\n",
       "      <td>464.577143</td>\n",
       "      <td>0.508360</td>\n",
       "      <td>8.334634</td>\n",
       "    </tr>\n",
       "    <tr>\n",
       "      <th>10</th>\n",
       "      <td>55693.0</td>\n",
       "      <td>CEU CEI SAO MATEUS</td>\n",
       "      <td>POLYGON ((352106.732 7388997.038, 352100.884 7...</td>\n",
       "      <td>72043.680000</td>\n",
       "      <td>4872.16</td>\n",
       "      <td>244.768125</td>\n",
       "      <td>11047.673871</td>\n",
       "      <td>518.738288</td>\n",
       "      <td>0.441012</td>\n",
       "      <td>6.521163</td>\n",
       "    </tr>\n",
       "    <tr>\n",
       "      <th>11</th>\n",
       "      <td>56350.0</td>\n",
       "      <td>CEU CEI SILVANA APARECIDA TOBIAS PROFA</td>\n",
       "      <td>POLYGON ((357101.616 7395550.409, 357101.371 7...</td>\n",
       "      <td>67456.080000</td>\n",
       "      <td>6781.60</td>\n",
       "      <td>887.936673</td>\n",
       "      <td>16601.190478</td>\n",
       "      <td>607.006440</td>\n",
       "      <td>0.408501</td>\n",
       "      <td>4.063328</td>\n",
       "    </tr>\n",
       "    <tr>\n",
       "      <th>12</th>\n",
       "      <td>56512.0</td>\n",
       "      <td>CEU CEI PARQUE VEREDAS</td>\n",
       "      <td>POLYGON ((358168.186 7398993.942, 358191.666 7...</td>\n",
       "      <td>68073.280000</td>\n",
       "      <td>4019.76</td>\n",
       "      <td>81.751637</td>\n",
       "      <td>10803.072975</td>\n",
       "      <td>474.106801</td>\n",
       "      <td>0.372094</td>\n",
       "      <td>6.301289</td>\n",
       "    </tr>\n",
       "    <tr>\n",
       "      <th>13</th>\n",
       "      <td>56576.0</td>\n",
       "      <td>CEU CEI TRES PONTES</td>\n",
       "      <td>POLYGON ((358997.493 7402823.758, 358931.632 7...</td>\n",
       "      <td>67481.280000</td>\n",
       "      <td>6798.96</td>\n",
       "      <td>2279.056708</td>\n",
       "      <td>33559.265811</td>\n",
       "      <td>788.841368</td>\n",
       "      <td>0.202596</td>\n",
       "      <td>2.010809</td>\n",
       "    </tr>\n",
       "  </tbody>\n",
       "</table>\n",
       "</div>"
      ],
      "text/plain": [
       "    cd_identificador                          nm_equipamento  \\\n",
       "0            50102.0                        CEU CEI UIRAPURU   \n",
       "1            50242.0                     CEU CEI CAMPO LIMPO   \n",
       "2            50415.0                    CEU CEI GUARAPIRANGA   \n",
       "3            50649.0                           CEU CEI PERUS   \n",
       "4            51660.0                    CEU CEI CIDADE DUTRA   \n",
       "5            52295.0                      CEU CEI TRES LAGOS   \n",
       "6            53337.0                  CEU CEI CAMINHO DO MAR   \n",
       "7            54200.0                         CEU CEI MENINOS   \n",
       "8            54508.0          CEU CEI WALTER DE ANDRADE PROF   \n",
       "9            55098.0                   CEU CEI QUINTA DO SOL   \n",
       "10           55693.0                      CEU CEI SAO MATEUS   \n",
       "11           56350.0  CEU CEI SILVANA APARECIDA TOBIAS PROFA   \n",
       "12           56512.0                  CEU CEI PARQUE VEREDAS   \n",
       "13           56576.0                     CEU CEI TRES PONTES   \n",
       "\n",
       "                                             geometry  volume_edificado  \\\n",
       "0   POLYGON ((317434.250 7388857.309, 317347.376 7...      75849.120000   \n",
       "1   POLYGON ((318559.041 7384884.278, 318563.964 7...      68787.440000   \n",
       "2   POLYGON ((320219.934 7378087.306, 320225.207 7...     102852.400000   \n",
       "3   POLYGON ((320904.370 7410458.125, 320943.634 7...      64403.360000   \n",
       "4   POLYGON ((326271.898 7376707.519, 326265.685 7...      65765.200000   \n",
       "5   POLYGON ((328814.200 7370348.695, 328806.100 7...      75599.120000   \n",
       "6   POLYGON ((333388.003 7381564.589, 333408.163 7...      99841.680000   \n",
       "7   POLYGON ((338546.576 7386740.311, 338541.382 7...      64987.920000   \n",
       "8   POLYGON ((341448.825 7398388.873, 341451.850 7...     105997.840001   \n",
       "9   POLYGON ((347223.688 7400518.334, 347235.324 7...      82764.000001   \n",
       "10  POLYGON ((352106.732 7388997.038, 352100.884 7...      72043.680000   \n",
       "11  POLYGON ((357101.616 7395550.409, 357101.371 7...      67456.080000   \n",
       "12  POLYGON ((358168.186 7398993.942, 358191.666 7...      68073.280000   \n",
       "13  POLYGON ((358997.493 7402823.758, 358931.632 7...      67481.280000   \n",
       "\n",
       "    area_projecao_edificada  area_vegetada    area_total    perimetro  \\\n",
       "0                   6494.56    1231.376962  20393.378568   823.891599   \n",
       "1                   5701.76      87.031043  32623.638982   891.119086   \n",
       "2                  10332.96    6773.126496  77070.098593  1242.308071   \n",
       "3                   4900.08     158.344544  20488.761606  1022.427347   \n",
       "4                   5053.04      18.871165  12043.412306   529.278391   \n",
       "5                   5669.76    6360.202979  47917.349302   925.582953   \n",
       "6                   5779.28    1217.812367  42249.994437  1104.578325   \n",
       "7                   4986.96     430.185286  33943.161764   789.297742   \n",
       "8                   9980.48    1498.829315  29859.065336   649.290816   \n",
       "9                   5048.08      41.404250   9930.129737   464.577143   \n",
       "10                  4872.16     244.768125  11047.673871   518.738288   \n",
       "11                  6781.60     887.936673  16601.190478   607.006440   \n",
       "12                  4019.76      81.751637  10803.072975   474.106801   \n",
       "13                  6798.96    2279.056708  33559.265811   788.841368   \n",
       "\n",
       "    taxa_de_ocupacao  coeficiente_volumetrico_aproveitamento  \n",
       "0           0.318464                                3.719301  \n",
       "1           0.174774                                2.108515  \n",
       "2           0.134072                                1.334531  \n",
       "3           0.239159                                3.143351  \n",
       "4           0.419569                                5.460678  \n",
       "5           0.118324                                1.577698  \n",
       "6           0.136788                                2.363117  \n",
       "7           0.146921                                1.914610  \n",
       "8           0.334253                                3.549938  \n",
       "9           0.508360                                8.334634  \n",
       "10          0.441012                                6.521163  \n",
       "11          0.408501                                4.063328  \n",
       "12          0.372094                                6.301289  \n",
       "13          0.202596                                2.010809  "
      ]
     },
     "execution_count": 153,
     "metadata": {},
     "output_type": "execute_result"
    }
   ],
   "source": [
    "gdf_ceus"
   ]
  },
  {
   "cell_type": "code",
   "execution_count": 155,
   "metadata": {},
   "outputs": [],
   "source": [
    "gdf_ceus.to_file('resultados/quantitativos.gpkg', driver='GPKG')"
   ]
  },
  {
   "cell_type": "code",
   "execution_count": null,
   "metadata": {},
   "outputs": [],
   "source": []
  }
 ],
 "metadata": {
  "kernelspec": {
   "display_name": "Python 3",
   "language": "python",
   "name": "python3"
  },
  "language_info": {
   "codemirror_mode": {
    "name": "ipython",
    "version": 3
   },
   "file_extension": ".py",
   "mimetype": "text/x-python",
   "name": "python",
   "nbconvert_exporter": "python",
   "pygments_lexer": "ipython3",
   "version": "3.7.6"
  }
 },
 "nbformat": 4,
 "nbformat_minor": 4
}
